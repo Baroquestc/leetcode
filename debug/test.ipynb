{
 "cells": [
  {
   "cell_type": "code",
   "execution_count": 5,
   "metadata": {},
   "outputs": [],
   "source": [
    "class ListNode:\n",
    "    def __init__(self, x):\n",
    "        self.val = x\n",
    "        self.next = None\n",
    "\n",
    "\n",
    "# 输入一个数组，转换为一条单链表\n",
    "def createLinkedList(arr: 'List[int]') -> 'ListNode':\n",
    "    if arr is None or len(arr) == 0:\n",
    "        return None\n",
    "\n",
    "    head = ListNode(arr[0])\n",
    "    cur = head\n",
    "    for i in range(1, len(arr)):\n",
    "        cur.next = ListNode(arr[i])\n",
    "        cur = cur.next\n",
    "\n",
    "    return head"
   ]
  },
  {
   "cell_type": "markdown",
   "metadata": {},
   "source": [
    "单链表的遍历/查找/修改"
   ]
  },
  {
   "cell_type": "code",
   "execution_count": 8,
   "metadata": {},
   "outputs": [
    {
     "name": "stdout",
     "output_type": "stream",
     "text": [
      "1\n",
      "2\n",
      "3\n",
      "4\n",
      "5\n"
     ]
    }
   ],
   "source": [
    "# 创建一条单链表\n",
    "head = createLinkedList([1, 2, 3, 4, 5])\n",
    "\n",
    "# 遍历单链表\n",
    "p = head\n",
    "while p is not None:\n",
    "    print(p.val)\n",
    "    p = p.next"
   ]
  }
 ],
 "metadata": {
  "kernelspec": {
   "display_name": "llm",
   "language": "python",
   "name": "python3"
  },
  "language_info": {
   "codemirror_mode": {
    "name": "ipython",
    "version": 3
   },
   "file_extension": ".py",
   "mimetype": "text/x-python",
   "name": "python",
   "nbconvert_exporter": "python",
   "pygments_lexer": "ipython3",
   "version": "3.10.16"
  }
 },
 "nbformat": 4,
 "nbformat_minor": 2
}
